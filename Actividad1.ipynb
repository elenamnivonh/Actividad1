{
 "cells": [
  {
   "cell_type": "code",
   "execution_count": 1,
   "metadata": {},
   "outputs": [],
   "source": [
    "#Importo librerias de pandas y numpy\n",
    "import pandas as pd\n",
    "import numpy as np"
   ]
  },
  {
   "cell_type": "code",
   "execution_count": null,
   "metadata": {},
   "outputs": [],
   "source": [
    "#Cargo el archivo \n",
    "df= pd.read_csv(\"Exportaciones.csv\")\n",
    "df.info()\n",
    "df"
   ]
  },
  {
   "cell_type": "code",
   "execution_count": 49,
   "metadata": {},
   "outputs": [],
   "source": [
    "#   Filtro (a)\n",
    "#Filtro por objeto - Columnas\n",
    "a1=df[df[\"iso3\"]==\"alb\"]\n",
    "#a1\n",
    "\n",
    "#Aplicamos un filtro que ordene los datos de mayor a un número porporcionado por la actividad\n",
    "a2 = df [df[\"h_insurance\"]>0.5]\n",
    "#a2\n",
    "\n",
    "#Agregamos & para la aplicación de los dos filtros\n",
    "afinal=df[(df[\"h_insurance\"]>0.5)& (df[\"iso3\"]==\"alb\")]\n",
    "afinal\n",
    "\n",
    "#Convertir archivo filtrado a CSV\n",
    "afinal.to_csv(\"Filtro (a)\")"
   ]
  },
  {
   "cell_type": "code",
   "execution_count": 50,
   "metadata": {},
   "outputs": [],
   "source": [
    "#Filtro (b)\n",
    "#Todas las exportaciones de \"sectorGmatrix:insurance\" con  \"g procfoods\" mayor a \"7\"\n",
    "#Filtro por objeto - Columnas\n",
    "b1=df[df[\"sector_GMatrix\"]==\"insurance\"]\n",
    "#b1\n",
    "\n",
    "#Aplicamos un filtro que ordene los datos de mayor a un número porporcionado por la actividad\n",
    "b2 = df [df[\"g_procfoods\"]>7]\n",
    "#b2\n",
    "\n",
    "#Agregamos & para la aplicación de los dos filtros\n",
    "bfinal=df[(df[\"g_procfoods\"]>7)& (df[\"sector_GMatrix\"]==\"insurance\")]\n",
    "bfinal\n",
    "\n",
    "#Convertir archivo filtrado a CSV\n",
    "bfinal.to_csv(\"Filtro (b)\")"
   ]
  },
  {
   "cell_type": "code",
   "execution_count": 51,
   "metadata": {},
   "outputs": [],
   "source": [
    "#Filtro (c)\n",
    "#Todas las exportaciones de \"year:1997 a 2005\"\n",
    "c1=df[(df[\"year\"] >= 1997) & (df[\"year\"] <=2005)]\n",
    "c1\n",
    "\n",
    "#Convertir archivo filtrado a CSV\n",
    "c1.to_csv(\"Filtro (c)\")"
   ]
  },
  {
   "cell_type": "code",
   "execution_count": 52,
   "metadata": {},
   "outputs": [],
   "source": [
    "#Filtro (d)\n",
    "#Todas las exportaciones con \"VXsharefwd\" mayor a 0.5 y con \"VXsharebwd\" menor a 0.5\n",
    "d1=df[(df[\"VXsharefwd\"] > 0.5) & (df[\"VXsharebwd\"] < 0.5)]\n",
    "d1\n",
    "\n",
    "#Convertir archivo filtrado a CSV\n",
    "d1.to_csv(\"Filtro (d)\")"
   ]
  },
  {
   "cell_type": "code",
   "execution_count": 53,
   "metadata": {},
   "outputs": [],
   "source": [
    "#Filtro (e)\n",
    "#Las 100 exportaciones de \"iso3:tha, kor, phl, ven y deu\" con \"g_textiles\" mayor a 1 y \"g_clothing\" menor a 1\n",
    "e1 = df[(df[\"iso3\"]==\"kor\")|(df[\"iso3\"]==\"tha\")|(df[\"iso3\"]==\"phl\")|(df[\"iso3\"]==\"ven\")|(df[\"iso3\"]==\"deu\")]\n",
    "#e1\n",
    "\n",
    "e2=e1[e1[\"g_textiles\"] > 1]\n",
    "#e2\n",
    "\n",
    "e3=e2[e2[\"g_clothing\"] < 1]\n",
    "e3\n",
    "\n",
    "#Convertir archivo filtrado a CSV\n",
    "e3.to_csv(\"Filtro (e)\")"
   ]
  },
  {
   "cell_type": "code",
   "execution_count": 54,
   "metadata": {},
   "outputs": [],
   "source": [
    "#Filtro (f)\n",
    "#Las exportaciones de \"year: 2004\", con \"h oservices\" mayor a \"10\"\n",
    "f1=df[df[\"year\"] == 2004]\n",
    "#f1\n",
    "\n",
    "f2=f1[f1[\"h_oservices\"] > 10]\n",
    "f2\n",
    "\n",
    "#Convertir archivo filtrado a CSV\n",
    "f2.to_csv(\"Filtro (f)\")"
   ]
  },
  {
   "cell_type": "code",
   "execution_count": 55,
   "metadata": {},
   "outputs": [],
   "source": [
    "#Filtro (g)\n",
    "#Todas las exportaciones que no sean sector_GMatrix:machinery\n",
    "g1=df[~(df[\"sector_GMatrix\"] == \"machinery\")]\n",
    "g1\n",
    "\n",
    "#Convertir archivo filtrado a CSV\n",
    "g1.to_csv(\"Filtro (g)\")"
   ]
  },
  {
   "cell_type": "code",
   "execution_count": 56,
   "metadata": {},
   "outputs": [],
   "source": [
    "#Filtro (h)\n",
    "#Todas las exportaciones que no sean de \"DXshare\" mayor a \"0.5\"\n",
    "h1=df[~(df[\"DXshare\"] > 0.5)]\n",
    "h1\n",
    "\n",
    "#Convertir archivo filtrado a CSV\n",
    "h1.to_csv(\"Filtro (h)\")"
   ]
  },
  {
   "cell_type": "code",
   "execution_count": 57,
   "metadata": {},
   "outputs": [],
   "source": [
    "#Filtro (i)\n",
    "#Todas las exportaciones que  sean de \"h_oconsumer\" igual a \"0.02\" o \"h_obsict\" mayor que 10\n",
    "i1=df[(df[\"h_oconsumer\"] == .02) | (df[\"h_obsict\"] > 10)]\n",
    "i1\n",
    "\n",
    "#Convertir archivo filtrado a CSV\n",
    "i1.to_csv(\"Filtro (i)\")"
   ]
  }
 ],
 "metadata": {
  "kernelspec": {
   "display_name": "Python 3.10.6 64-bit",
   "language": "python",
   "name": "python3"
  },
  "language_info": {
   "codemirror_mode": {
    "name": "ipython",
    "version": 3
   },
   "file_extension": ".py",
   "mimetype": "text/x-python",
   "name": "python",
   "nbconvert_exporter": "python",
   "pygments_lexer": "ipython3",
   "version": "3.10.6"
  },
  "orig_nbformat": 4,
  "vscode": {
   "interpreter": {
    "hash": "aee8b7b246df8f9039afb4144a1f6fd8d2ca17a180786b69acc140d282b71a49"
   }
  }
 },
 "nbformat": 4,
 "nbformat_minor": 2
}
